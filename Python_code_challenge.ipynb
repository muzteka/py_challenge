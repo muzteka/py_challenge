{
 "cells": [
  {
   "cell_type": "code",
   "execution_count": 1,
   "metadata": {
    "collapsed": false
   },
   "outputs": [
    {
     "name": "stdout",
     "output_type": "stream",
     "text": [
      "10000 loops, best of 3: 165 µs per loop\n"
     ]
    }
   ],
   "source": [
    "import timeit\n",
    "\n",
    "l = []\n",
    "def f():\n",
    "    for i in range(1000):\n",
    "        l.append(i)\n",
    "\n",
    "%timeit f()"
   ]
  },
  {
   "cell_type": "code",
   "execution_count": 2,
   "metadata": {
    "collapsed": false
   },
   "outputs": [
    {
     "name": "stdout",
     "output_type": "stream",
     "text": [
      "[1, 2]\n"
     ]
    }
   ],
   "source": [
    "list_test = [1]\n",
    "list_test_2 = [2]\n",
    "list_sum = list_test + list_test_2\n",
    "print list_sum"
   ]
  },
  {
   "cell_type": "code",
   "execution_count": 3,
   "metadata": {
    "collapsed": false
   },
   "outputs": [
    {
     "name": "stdout",
     "output_type": "stream",
     "text": [
      "The slowest run took 59.83 times longer than the fastest. This could mean that an intermediate result is being cached.\n",
      "10000000 loops, best of 3: 35.9 ns per loop\n"
     ]
    }
   ],
   "source": [
    "list_test3 = list(range(1000))\n",
    "%timeit list_test3"
   ]
  },
  {
   "cell_type": "code",
   "execution_count": 4,
   "metadata": {
    "collapsed": false
   },
   "outputs": [
    {
     "name": "stdout",
     "output_type": "stream",
     "text": [
      "4\n",
      "abcdc\n"
     ]
    }
   ],
   "source": [
    "test = 'abcd'\n",
    "#print list('abcd')\n",
    "test_list = ['a','b','c','d']\n",
    "#print range(3)\n",
    "print len(test)\n",
    "print test+ 'c'"
   ]
  },
  {
   "cell_type": "code",
   "execution_count": 5,
   "metadata": {
    "collapsed": false
   },
   "outputs": [
    {
     "data": {
      "text/plain": [
       "274877906944"
      ]
     },
     "execution_count": 5,
     "metadata": {},
     "output_type": "execute_result"
    }
   ],
   "source": [
    "2**38"
   ]
  },
  {
   "cell_type": "code",
   "execution_count": 6,
   "metadata": {
    "collapsed": false
   },
   "outputs": [],
   "source": [
    "alphabet = 'abcdefghijklmnopqrstuvwxyz'\n",
    "list_alphabet = list(alphabet)"
   ]
  },
  {
   "cell_type": "code",
   "execution_count": 7,
   "metadata": {
    "collapsed": false
   },
   "outputs": [],
   "source": [
    "def decode_this(input_str):\n",
    "    listify = list(input_str)\n",
    "    for n, element in enumerate(listify):\n",
    "        if element in list_alphabet:\n",
    "            decoded_index = list_alphabet.index(element) + 2\n",
    "            if decoded_index > 25:\n",
    "                decoded_index -= 26\n",
    "            listify[n] = alphabet[decoded_index]\n",
    "            \n",
    "    \n",
    "    print ' '.join(listify)"
   ]
  },
  {
   "cell_type": "code",
   "execution_count": 8,
   "metadata": {
    "collapsed": false
   },
   "outputs": [
    {
     "name": "stdout",
     "output_type": "stream",
     "text": [
      "i   h o p e   y o u   d i d n t   t r a n s l a t e   i t   b y   h a n d .   t h a t s   w h a t   c o m p u t e r s   a r e   f o r .   d o i n g   i t   i n   b y   h a n d   i s   i n e f f i c i e n t   a n d   t h a t s   w h y   t h i s   t e x t   i s   s o   l o n g .   u s i n g   s t r i n g . m a k e t r a n s ( )   i s   r e c o m m e n d e d .   n o w   a p p l y   o n   t h e   u r l .\n"
     ]
    }
   ],
   "source": [
    "decode_this('g fmnc wms bgblr rpylqjyrc gr zw fylb. rfyrq ufyr amknsrcpq ypc dmp. bmgle gr gl zw fylb gq glcddgagclr ylb rfyrq ufw rfgq rcvr gq qm jmle. sqgle qrpgle.kyicrpylq() gq pcamkkclbcb. lmu ynnjw ml rfc spj.')"
   ]
  },
  {
   "cell_type": "code",
   "execution_count": 9,
   "metadata": {
    "collapsed": false
   },
   "outputs": [
    {
     "name": "stdout",
     "output_type": "stream",
     "text": [
      "ocr\n"
     ]
    }
   ],
   "source": [
    "from string import maketrans\n",
    "intab = 'abcdefghijklmnopqrstuvwxyz'\n",
    "outtab = 'cdefghijklmnopqrstuvwxyzab'\n",
    "trantab = maketrans(intab, outtab)\n",
    "string_input = \"map\"\n",
    "\n",
    "print string_input.translate(trantab)"
   ]
  },
  {
   "cell_type": "code",
   "execution_count": 10,
   "metadata": {
    "collapsed": true
   },
   "outputs": [],
   "source": [
    "cap = list('ABCDEFGHIJKLMNOPQRSTUVWXYZ')\n",
    "lower_case = list('abcdefghijklmnopqrstuvwxyz')\n",
    "def decode_para(input_string):\n",
    "    index = 0\n",
    "    output = ''\n",
    "    \n",
    "    while (index >= 0) and (len(output) != 7) and (index < len(input_string)):\n",
    "        print output\n",
    "        if input_string[index] in cap:\n",
    "            output = output + input_string[index]\n",
    "            index += 1\n",
    "            if (len(output) == 3) and (output[0] in cap) and (output[1] in cap) and (output[2] in cap):\n",
    "                index += 1\n",
    "                if input_string[index] in lower_case:\n",
    "                    output = output + input_string[index]\n",
    "                    index += 1\n",
    "                    if input_string[index] in cap:\n",
    "                        output = output + input_string[index]\n",
    "                        index += 1\n",
    "                        if (len(output) == 7):\n",
    "                            print output\n",
    "                            break\n",
    "                        \n",
    "                        else:\n",
    "                            index += 7\n",
    "                            output = ''\n",
    "                    else:\n",
    "                        index += 5\n",
    "                        output = ''\n",
    "                else:\n",
    "                    index += 4\n",
    "                    output = ''\n",
    "            else:\n",
    "                index += 3\n",
    "                output = ''\n",
    "        else:\n",
    "            index += 1\n",
    "            output = ''\n",
    "    \n",
    "    "
   ]
  },
  {
   "cell_type": "code",
   "execution_count": null,
   "metadata": {
    "collapsed": true
   },
   "outputs": [],
   "source": [
    "input_string = \"\""
   ]
  },
  {
   "cell_type": "markdown",
   "metadata": {
    "collapsed": false
   },
   "source": [
    "input string can be found in the web page source code.\n",
    "after that we can run the large crypt code into the set function to find out what the solution vocab is."
   ]
  },
  {
   "cell_type": "code",
   "execution_count": 17,
   "metadata": {
    "collapsed": false
   },
   "outputs": [],
   "source": [
    "decode_para(input_string)"
   ]
  },
  {
   "cell_type": "code",
   "execution_count": 15,
   "metadata": {
    "collapsed": false
   },
   "outputs": [
    {
     "data": {
      "text/plain": [
       "{'\\n',\n",
       " '!',\n",
       " '#',\n",
       " '$',\n",
       " '%',\n",
       " '&',\n",
       " '(',\n",
       " ')',\n",
       " '*',\n",
       " '+',\n",
       " '-',\n",
       " '<',\n",
       " '>',\n",
       " '@',\n",
       " '[',\n",
       " ']',\n",
       " '^',\n",
       " '_',\n",
       " 'a',\n",
       " 'e',\n",
       " 'i',\n",
       " 'l',\n",
       " 'q',\n",
       " 't',\n",
       " 'u',\n",
       " 'y',\n",
       " '{',\n",
       " '}'}"
      ]
     },
     "execution_count": 15,
     "metadata": {},
     "output_type": "execute_result"
    }
   ],
   "source": [
    "set(input_string)"
   ]
  },
  {
   "cell_type": "code",
   "execution_count": 18,
   "metadata": {
    "collapsed": true
   },
   "outputs": [],
   "source": [
    "import re"
   ]
  },
  {
   "cell_type": "code",
   "execution_count": 45,
   "metadata": {
    "collapsed": false
   },
   "outputs": [
    {
     "name": "stdout",
     "output_type": "stream",
     "text": [
      "l\n",
      "i\n",
      "n\n",
      "k\n",
      "e\n",
      "d\n",
      "l\n",
      "i\n",
      "s\n",
      "t\n"
     ]
    }
   ],
   "source": [
    "with open(\"python_challenge_problem_3.txt\", 'r') as crypt:\n",
    "    for line in crypt:\n",
    "        match_str = re.search(u'[^A-Z]' + u'[A-Z]{3}' + u'[a-z]' + u'[A-Z]{3}' + u'[^A-Z]', line)\n",
    "        if match_str:\n",
    "            real_match = match_str.group()\n",
    "            print real_match[4]\n",
    "            \n",
    "        "
   ]
  },
  {
   "cell_type": "code",
   "execution_count": 87,
   "metadata": {
    "collapsed": false,
    "scrolled": true
   },
   "outputs": [
    {
     "name": "stdout",
     "output_type": "stream",
     "text": [
      "['53548']\n",
      "['66081']\n",
      "['67753']\n",
      "['56337']\n",
      "['3356']\n",
      "['94525']\n",
      "['89574']\n",
      "['4413']\n",
      "['82294']\n",
      "['56060']\n",
      "['95493']\n",
      "['80865']\n",
      "['66242']\n",
      "['16065']\n",
      "['62145']\n",
      "['23147']\n",
      "['83763']\n",
      "['62381']\n",
      "['76841']\n",
      "['91706']\n",
      "['9268']\n",
      "['64814']\n",
      "['80809']\n",
      "['14039']\n",
      "['73355']\n",
      "['81905']\n",
      "['36402']\n",
      "['27221']\n",
      "['79607']\n",
      "['91763']\n",
      "['11631']\n",
      "['76396']\n",
      "['69905']\n",
      "['11073']\n",
      "['71281']\n",
      "['54345']\n",
      "['19047']\n",
      "['34376']\n",
      "['3193']\n",
      "['74258']\n",
      "['62712']\n",
      "['1823']\n",
      "['21232']\n",
      "['87890']\n",
      "['21545']\n",
      "['37136']\n",
      "['23060']\n",
      "['5385']\n",
      "['4620']\n",
      "['39111']\n",
      "['35914']\n",
      "['60310']\n",
      "['19178']\n",
      "['44671']\n",
      "['45736']\n",
      "['9216']\n",
      "['12585']\n",
      "['11302']\n",
      "['33096']\n",
      "['13967']\n",
      "['57004']\n",
      "['64196']\n",
      "['73929']\n",
      "['24800']\n",
      "['25081']\n",
      "['90033']\n",
      "['45919']\n",
      "['54827']\n",
      "['73950']\n",
      "['56978']\n",
      "['8133']\n",
      "['61900']\n",
      "['47769']\n",
      "['631']\n",
      "['2284']\n",
      "['60074']\n",
      "['35959']\n",
      "['57158']\n",
      "['90990']\n",
      "['27935']\n",
      "['99927']\n",
      "['41785']\n",
      "['32660']\n",
      "['4328']\n",
      "['42067']\n",
      "['8743']\n",
      "['38613']\n",
      "['21100']\n",
      "['77864']\n",
      "['6523']\n",
      "['6927']\n",
      "['82930']\n",
      "['35846']\n",
      "['31785']\n",
      "['41846']\n",
      "['72387']\n",
      "['59334']\n",
      "['65520']\n",
      "['93781']\n",
      "['55840']\n",
      "['80842']\n",
      "['59022']\n",
      "['23298']\n",
      "['27709']\n",
      "['96791']\n",
      "['75635']\n",
      "['52899']\n",
      "['66831']\n",
      "match not found\n",
      "['66831']\n"
     ]
    }
   ],
   "source": [
    "import urllib\n",
    "\n",
    "count = [0]\n",
    "key_num = ['37278']\n",
    "while (count[0] < 400):\n",
    "    html = urllib.urlopen(\"http://www.pythonchallenge.com/pc/def/linkedlist.php?nothing=\"+ key_num[0]).read()\n",
    "    crypt_num = re.search(u'[0-9]+', html)\n",
    "\n",
    "    if crypt_num:\n",
    "        key_num[0] = crypt_num.group()\n",
    "        print key_num\n",
    "        \n",
    "    else:\n",
    "        print \"match not found\"\n",
    "        print key_num\n",
    "        break\n",
    "    count[0] += 1"
   ]
  },
  {
   "cell_type": "markdown",
   "metadata": {},
   "source": [
    "problem 5 requires knowledge in pickle module"
   ]
  },
  {
   "cell_type": "code",
   "execution_count": 86,
   "metadata": {
    "collapsed": false
   },
   "outputs": [
    {
     "name": "stdout",
     "output_type": "stream",
     "text": [
      "                                                                                               \n",
      "              #####                                                                      ##### \n",
      "               ####                                                                       #### \n",
      "               ####                                                                       #### \n",
      "               ####                                                                       #### \n",
      "               ####                                                                       #### \n",
      "               ####                                                                       #### \n",
      "               ####                                                                       #### \n",
      "               ####                                                                       #### \n",
      "      ###      ####   ###         ###       #####   ###    #####   ###          ###       #### \n",
      "   ###   ##    #### #######     ##  ###      #### #######   #### #######     ###  ###     #### \n",
      "  ###     ###  #####    ####   ###   ####    #####    ####  #####    ####   ###     ###   #### \n",
      " ###           ####     ####   ###    ###    ####     ####  ####     ####  ###      ####  #### \n",
      " ###           ####     ####          ###    ####     ####  ####     ####  ###       ###  #### \n",
      "####           ####     ####     ##   ###    ####     ####  ####     #### ####       ###  #### \n",
      "####           ####     ####   ##########    ####     ####  ####     #### ##############  #### \n",
      "####           ####     ####  ###    ####    ####     ####  ####     #### ####            #### \n",
      "####           ####     #### ####     ###    ####     ####  ####     #### ####            #### \n",
      " ###           ####     #### ####     ###    ####     ####  ####     ####  ###            #### \n",
      "  ###      ##  ####     ####  ###    ####    ####     ####  ####     ####   ###      ##   #### \n",
      "   ###    ##   ####     ####   ###########   ####     ####  ####     ####    ###    ##    #### \n",
      "      ###     ######    #####    ##    #### ######    ###########    #####      ###      ######\n",
      "                                                                                               \n"
     ]
    }
   ],
   "source": [
    "prob_five = urllib.urlopen(\"http://www.pythonchallenge.com/pc/def/banner.p\").read()\n",
    "#print prob_five\n",
    "prob_five_noread = urllib.urlopen(\"http://www.pythonchallenge.com/pc/def/banner.p\")\n",
    "\n",
    "import pickle\n",
    "\n",
    "data = pickle.load(prob_five_noread)\n",
    "#print data\n",
    "for line in data:\n",
    "    output = \"\".join([k * v for k, v in line])\n",
    "    print output"
   ]
  },
  {
   "cell_type": "markdown",
   "metadata": {},
   "source": [
    "problem 6 address:\n",
    "http://www.pythonchallenge.com/pc/def/channel.html"
   ]
  },
  {
   "cell_type": "code",
   "execution_count": null,
   "metadata": {
    "collapsed": true
   },
   "outputs": [],
   "source": []
  }
 ],
 "metadata": {
  "kernelspec": {
   "display_name": "Python 2",
   "language": "python",
   "name": "python2"
  },
  "language_info": {
   "codemirror_mode": {
    "name": "ipython",
    "version": 2
   },
   "file_extension": ".py",
   "mimetype": "text/x-python",
   "name": "python",
   "nbconvert_exporter": "python",
   "pygments_lexer": "ipython2",
   "version": "2.7.13"
  }
 },
 "nbformat": 4,
 "nbformat_minor": 2
}
