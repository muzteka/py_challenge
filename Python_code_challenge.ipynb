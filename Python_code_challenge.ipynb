{
 "cells": [
  {
   "cell_type": "code",
   "execution_count": 6,
   "metadata": {
    "collapsed": false
   },
   "outputs": [
    {
     "name": "stdout",
     "output_type": "stream",
     "text": [
      "10000 loops, best of 3: 112 µs per loop\n"
     ]
    }
   ],
   "source": [
    "import timeit\n",
    "\n",
    "l = []\n",
    "def f():\n",
    "    for i in range(1000):\n",
    "        l.append(i)\n",
    "\n",
    "%timeit f()"
   ]
  },
  {
   "cell_type": "code",
   "execution_count": 2,
   "metadata": {
    "collapsed": false
   },
   "outputs": [
    {
     "name": "stdout",
     "output_type": "stream",
     "text": [
      "[1, 2]\n"
     ]
    }
   ],
   "source": [
    "list_test = [1]\n",
    "list_test_2 = [2]\n",
    "list_sum = list_test + list_test_2\n",
    "print list_sum"
   ]
  },
  {
   "cell_type": "code",
   "execution_count": 5,
   "metadata": {
    "collapsed": false
   },
   "outputs": [
    {
     "name": "stdout",
     "output_type": "stream",
     "text": [
      "10000000 loops, best of 3: 20.1 ns per loop\n"
     ]
    }
   ],
   "source": [
    "list_test3 = list(range(1000))\n",
    "%timeit list_test3"
   ]
  },
  {
   "cell_type": "code",
   "execution_count": 64,
   "metadata": {
    "collapsed": false
   },
   "outputs": [
    {
     "name": "stdout",
     "output_type": "stream",
     "text": [
      "4\n",
      "abcdc\n"
     ]
    }
   ],
   "source": [
    "test = 'abcd'\n",
    "#print list('abcd')\n",
    "test_list = ['a','b','c','d']\n",
    "#print range(3)\n",
    "print len(test)\n",
    "print test+ 'c'"
   ]
  },
  {
   "cell_type": "code",
   "execution_count": 8,
   "metadata": {
    "collapsed": false
   },
   "outputs": [
    {
     "data": {
      "text/plain": [
       "274877906944L"
      ]
     },
     "execution_count": 8,
     "metadata": {},
     "output_type": "execute_result"
    }
   ],
   "source": [
    "2**38"
   ]
  },
  {
   "cell_type": "code",
   "execution_count": 30,
   "metadata": {
    "collapsed": false
   },
   "outputs": [],
   "source": [
    "alphabet = 'abcdefghijklmnopqrstuvwxyz'\n",
    "list_alphabet = list(alphabet)"
   ]
  },
  {
   "cell_type": "code",
   "execution_count": 38,
   "metadata": {
    "collapsed": false
   },
   "outputs": [],
   "source": [
    "def decode_this(input_str):\n",
    "    listify = list(input_str)\n",
    "    for n, element in enumerate(listify):\n",
    "        if element in list_alphabet:\n",
    "            decoded_index = list_alphabet.index(element) + 2\n",
    "            if decoded_index > 25:\n",
    "                decoded_index -= 26\n",
    "            listify[n] = alphabet[decoded_index]\n",
    "            \n",
    "    \n",
    "    print ' '.join(listify)"
   ]
  },
  {
   "cell_type": "code",
   "execution_count": 39,
   "metadata": {
    "collapsed": false
   },
   "outputs": [
    {
     "name": "stdout",
     "output_type": "stream",
     "text": [
      "i   h o p e   y o u   d i d n t   t r a n s l a t e   i t   b y   h a n d .   t h a t s   w h a t   c o m p u t e r s   a r e   f o r .   d o i n g   i t   i n   b y   h a n d   i s   i n e f f i c i e n t   a n d   t h a t s   w h y   t h i s   t e x t   i s   s o   l o n g .   u s i n g   s t r i n g . m a k e t r a n s ( )   i s   r e c o m m e n d e d .   n o w   a p p l y   o n   t h e   u r l .\n"
     ]
    }
   ],
   "source": [
    "decode_this('g fmnc wms bgblr rpylqjyrc gr zw fylb. rfyrq ufyr amknsrcpq ypc dmp. bmgle gr gl zw fylb gq glcddgagclr ylb rfyrq ufw rfgq rcvr gq qm jmle. sqgle qrpgle.kyicrpylq() gq pcamkkclbcb. lmu ynnjw ml rfc spj.')"
   ]
  },
  {
   "cell_type": "code",
   "execution_count": 46,
   "metadata": {
    "collapsed": false
   },
   "outputs": [
    {
     "name": "stdout",
     "output_type": "stream",
     "text": [
      "ocr\n"
     ]
    }
   ],
   "source": [
    "from string import maketrans\n",
    "intab = 'abcdefghijklmnopqrstuvwxyz'\n",
    "outtab = 'cdefghijklmnopqrstuvwxyzab'\n",
    "trantab = maketrans(intab, outtab)\n",
    "string_input = \"map\"\n",
    "\n",
    "print string_input.translate(trantab)"
   ]
  },
  {
   "cell_type": "code",
   "execution_count": 88,
   "metadata": {
    "collapsed": true
   },
   "outputs": [],
   "source": [
    "cap = list('ABCDEFGHIJKLMNOPQRSTUVWXYZ')\n",
    "lower_case = list('abcdefghijklmnopqrstuvwxyz')\n",
    "def decode_para(input_string):\n",
    "    index = 0\n",
    "    output = ''\n",
    "    \n",
    "    while (index >= 0) and (len(output) != 7) and (index < len(input_string)):\n",
    "        print output\n",
    "        if input_string[index] in cap:\n",
    "            output = output + input_string[index]\n",
    "            index += 1\n",
    "            if (len(output) == 3) and (output[0] in cap) and (output[1] in cap) and (output[2] in cap):\n",
    "                index += 1\n",
    "                if input_string[index] in lower_case:\n",
    "                    output = output + input_string[index]\n",
    "                    index += 1\n",
    "                    if input_string[index] in cap:\n",
    "                        output = output + input_string[index]\n",
    "                        index += 1\n",
    "                        if (len(output) == 7):\n",
    "                            print output\n",
    "                            break\n",
    "                        \n",
    "                        else:\n",
    "                            index += 7\n",
    "                            output = ''\n",
    "                    else:\n",
    "                        index += 5\n",
    "                        output = ''\n",
    "                else:\n",
    "                    index += 4\n",
    "                    output = ''\n",
    "            else:\n",
    "                index += 3\n",
    "                output = ''\n",
    "        else:\n",
    "            index += 1\n",
    "            output = ''\n",
    "    \n",
    "    "
   ]
  },
  {
   "cell_type": "code",
   "execution_count": 91,
   "metadata": {
    "collapsed": false
   },
   "outputs": [],
   "source": [
    "input_string = 'tinACVdBNMakej'"
   ]
  },
  {
   "cell_type": "code",
   "execution_count": 92,
   "metadata": {
    "collapsed": false
   },
   "outputs": [
    {
     "name": "stdout",
     "output_type": "stream",
     "text": [
      "\n",
      "\n",
      "\n",
      "\n",
      "\n",
      "\n",
      "\n",
      "\n"
     ]
    }
   ],
   "source": [
    "decode_para(input_string)"
   ]
  },
  {
   "cell_type": "code",
   "execution_count": null,
   "metadata": {
    "collapsed": true
   },
   "outputs": [],
   "source": []
  }
 ],
 "metadata": {
  "kernelspec": {
   "display_name": "Python 2",
   "language": "python",
   "name": "python2"
  },
  "language_info": {
   "codemirror_mode": {
    "name": "ipython",
    "version": 2
   },
   "file_extension": ".py",
   "mimetype": "text/x-python",
   "name": "python",
   "nbconvert_exporter": "python",
   "pygments_lexer": "ipython2",
   "version": "2.7.13"
  }
 },
 "nbformat": 4,
 "nbformat_minor": 2
}
